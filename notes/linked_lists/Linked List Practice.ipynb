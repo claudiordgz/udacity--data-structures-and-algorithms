{
 "cells": [
  {
   "cell_type": "markdown",
   "metadata": {
    "graffitiCellId": "id_18ngdm1"
   },
   "source": [
    "# Linked List Practice\n",
    "\n",
    "Implement a linked list class. Your class should be able to:\n",
    "\n",
    "+ Append data to the tail of the list and prepend to the head\n",
    "+ Search the linked list for a value and return the node\n",
    "+ Remove a node\n",
    "+ Pop, which means to return the first node's value and delete the node from the list\n",
    "+ Insert data at some position in the list\n",
    "+ Return the size (length) of the linked list"
   ]
  },
  {
   "cell_type": "code",
   "execution_count": 1,
   "metadata": {
    "graffitiCellId": "id_x917dkg"
   },
   "outputs": [],
   "source": [
    "class Node:\n",
    "    def __init__(self, value):\n",
    "        self.value = value\n",
    "        self.next = None"
   ]
  },
  {
   "cell_type": "code",
   "execution_count": 11,
   "metadata": {
    "graffitiCellId": "id_hg4vhdi"
   },
   "outputs": [],
   "source": [
    "class LinkedList:\n",
    "    def __init__(self):\n",
    "        self.head = None\n",
    "        self.tail = None\n",
    "        \n",
    "    def prepend(self, value):\n",
    "        \"\"\" Prepend a value to the beginning of the list. \"\"\"\n",
    "        new_head = Node(value)\n",
    "        new_head.next = self.head\n",
    "        self.head = new_head\n",
    "        if self.tail is None:\n",
    "            self.tail = self.head.next if self.head.next is not None else self.head\n",
    "        \n",
    "    \n",
    "    def append(self, value):\n",
    "        \"\"\" Append a value to the end of the list. \"\"\"\n",
    "        if self.head is None:\n",
    "            self.head = Node(value)\n",
    "            self.tail = self.head\n",
    "        else:\n",
    "            self.tail.next = Node(value)\n",
    "            self.tail = self.tail.next\n",
    "    \n",
    "    def search(self, value):\n",
    "        \"\"\" Search the linked list for a node with the requested value and return the node. \"\"\"\n",
    "        iterator = self.head\n",
    "        while iterator:\n",
    "            if value == iterator.value:\n",
    "                return  iterator\n",
    "            iterator = iterator.next\n",
    "        \n",
    "    \n",
    "    def remove(self, value):\n",
    "        \"\"\" Remove first occurrence of value. \"\"\"\n",
    "        iterator = self.head\n",
    "        previous_iterator = None\n",
    "        while iterator:\n",
    "            if value == iterator.value:\n",
    "                if previous_iterator is None:\n",
    "                    self.head = iterator.next\n",
    "                    iterator.next = None\n",
    "                    return\n",
    "                else:\n",
    "                    if iterator.next is None:\n",
    "                        previous_iterator.next = None\n",
    "                        self.tail = previous_iterator\n",
    "                        return\n",
    "                    else:\n",
    "                        previous_iterator.next = iterator.next\n",
    "                        iterator.next = None\n",
    "            previous_iterator = iterator\n",
    "            iterator = iterator.next\n",
    "        \n",
    "    \n",
    "    def pop(self):\n",
    "        \"\"\" Return the first node's value and remove it from the list. \"\"\"\n",
    "        node = self.head\n",
    "        if self.head is not None:\n",
    "            new_head = self.head.next\n",
    "            self.head.next = None\n",
    "            self.head = new_head\n",
    "        return node.value\n",
    "        \n",
    "    \n",
    "    def insert(self, value, pos):\n",
    "        \"\"\" Insert value at pos position in the list. If pos is larger than the\n",
    "            length of the list, append to the end of the list. \"\"\"\n",
    "        iterator = self.head\n",
    "        previous_iterator = None\n",
    "        count = 0\n",
    "        node = Node(value)\n",
    "        while iterator:\n",
    "            if count == pos:\n",
    "                if previous_iterator is None:\n",
    "                    node.next = iterator\n",
    "                    self.head = node\n",
    "                    return\n",
    "                else:\n",
    "                    previous_iterator.next = node\n",
    "                    node.next = iterator\n",
    "                    return\n",
    "            count += 1\n",
    "            previous_iterator = iterator\n",
    "            iterator = iterator.next\n",
    "        previous_iterator.next = node\n",
    "        self.tail = node\n",
    "    \n",
    "    def size(self):\n",
    "        \"\"\" Return the size or length of the linked list. \"\"\"\n",
    "        iterator = self.head\n",
    "        count = 0\n",
    "        while iterator:\n",
    "            count += 1\n",
    "            iterator = iterator.next\n",
    "        return count\n",
    "\n",
    "    def to_list(self):\n",
    "        out = []\n",
    "        node = self.head\n",
    "        while node:\n",
    "            out.append(node.value)\n",
    "            node = node.next\n",
    "        return out"
   ]
  },
  {
   "cell_type": "code",
   "execution_count": 13,
   "metadata": {
    "graffitiCellId": "id_f9k83vl"
   },
   "outputs": [
    {
     "name": "stdout",
     "output_type": "stream",
     "text": [
      "yes!\n"
     ]
    }
   ],
   "source": [
    "## Test your implementation here\n",
    "\n",
    "# Test prepend\n",
    "linked_list = LinkedList()\n",
    "linked_list.prepend(1)\n",
    "assert linked_list.to_list() == [1], f\"list contents: {linked_list.to_list()}\"\n",
    "linked_list.append(3)\n",
    "linked_list.prepend(2)\n",
    "assert linked_list.to_list() == [2, 1, 3], f\"list contents: {linked_list.to_list()}\"\n",
    "    \n",
    "# Test append\n",
    "linked_list = LinkedList()\n",
    "linked_list.append(1)\n",
    "assert linked_list.to_list() == [1], f\"list contents: {linked_list.to_list()}\"\n",
    "linked_list.append(3)\n",
    "assert linked_list.to_list() == [1, 3], f\"list contents: {linked_list.to_list()}\"\n",
    "\n",
    "# Test search\n",
    "linked_list.prepend(2)\n",
    "linked_list.prepend(1)\n",
    "linked_list.append(4)\n",
    "linked_list.append(3)\n",
    "assert linked_list.search(1).value == 1, f\"list contents: {linked_list.to_list()}\"\n",
    "assert linked_list.search(4).value == 4, f\"list contents: {linked_list.to_list()}\"\n",
    "\n",
    "# Test remove\n",
    "linked_list.remove(1)\n",
    "assert linked_list.to_list() == [2, 1, 3, 4, 3], f\"list contents: {linked_list.to_list()}\"\n",
    "linked_list.remove(3)\n",
    "assert linked_list.to_list() == [2, 1, 4, 3], f\"list contents: {linked_list.to_list()}\"\n",
    "linked_list.remove(3)\n",
    "assert linked_list.to_list() == [2, 1, 4], f\"list contents: {linked_list.to_list()}\"\n",
    "\n",
    "# Test pop\n",
    "value = linked_list.pop()\n",
    "assert value == 2, f\"list contents: {linked_list.to_list()}\"\n",
    "assert linked_list.head.value == 1, f\"list contents: {linked_list.to_list()}\"\n",
    "\n",
    "# Test insert \n",
    "linked_list.insert(5, 0)\n",
    "assert linked_list.to_list() == [5, 1, 4], f\"list contents: {linked_list.to_list()}\"\n",
    "linked_list.insert(2, 1)\n",
    "assert linked_list.to_list() == [5, 2, 1, 4], f\"list contents: {linked_list.to_list()}\"\n",
    "linked_list.insert(3, 6)\n",
    "assert linked_list.to_list() == [5, 2, 1, 4, 3], f\"list contents: {linked_list.to_list()}\"\n",
    "\n",
    "# Test size\n",
    "assert linked_list.size() == 5, f\"list contents: {linked_list.to_list()}\""
   ]
  },
  {
   "cell_type": "markdown",
   "metadata": {
    "graffitiCellId": "id_hpn7l32"
   },
   "source": [
    "<span class=\"graffiti-highlight graffiti-id_hpn7l32-id_xaqiyxe\"><i></i><button>Show Solution</button></span>"
   ]
  }
 ],
 "metadata": {
  "graffiti": {
   "firstAuthorId": "10694620118",
   "id": "id_9v48ov8",
   "language": "EN"
  },
  "kernelspec": {
   "display_name": "Python 3",
   "language": "python",
   "name": "python3"
  },
  "language_info": {
   "codemirror_mode": {
    "name": "ipython",
    "version": 3
   },
   "file_extension": ".py",
   "mimetype": "text/x-python",
   "name": "python",
   "nbconvert_exporter": "python",
   "pygments_lexer": "ipython3",
   "version": "3.6.6"
  }
 },
 "nbformat": 4,
 "nbformat_minor": 2
}
