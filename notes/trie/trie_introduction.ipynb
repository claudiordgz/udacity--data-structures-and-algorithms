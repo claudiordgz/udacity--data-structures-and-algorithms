{
 "cells": [
  {
   "cell_type": "markdown",
   "metadata": {
    "graffitiCellId": "id_4zl18if"
   },
   "source": [
    "# Trie\n",
    "You've learned about Trees and Binary Search Trees. In this notebook, you'll learn about a new type of Tree called Trie. Before we dive into the details, let's talk about the kind of problem Trie can help with.\n",
    "\n",
    "Let's say you want to build software that provides spell check. This software will only say if the word is valid or not. It doesn't give suggested words. From the knowledge you've already learned, how would you build this?\n",
    "\n",
    "The simplest solution is to have a hashmap of all known words. It would take O(1) to see if a word exists, but the memory size would be O(n\\*m), where n is the number of words and m is the length of the word. Let's see how a Trie can help decrease the memory usage while sacrificing a little on performance.\n",
    "\n",
    "## Basic Trie\n",
    "Let's look at a basic Trie with the following words: \"a\", \"add\", and \"hi\""
   ]
  },
  {
   "cell_type": "code",
   "execution_count": 1,
   "metadata": {
    "graffitiCellId": "id_gum3me0"
   },
   "outputs": [
    {
     "name": "stdout",
     "output_type": "stream",
     "text": [
      "Is \"a\"   a word: True\n",
      "Is \"ad\"  a word: False\n",
      "Is \"add\" a word: True\n"
     ]
    }
   ],
   "source": [
    "basic_trie = {\n",
    "    # a and add word\n",
    "    'a': {\n",
    "        'd': {\n",
    "            'd': {'word_end': True},\n",
    "            'word_end': False},\n",
    "        'word_end': True},\n",
    "    # hi word\n",
    "    'h': {\n",
    "        'i': {'word_end': True},\n",
    "        'word_end': False}}\n",
    "\n",
    "\n",
    "print('Is \"a\"   a word: {}'.format(basic_trie['a']['word_end']))\n",
    "print('Is \"ad\"  a word: {}'.format(basic_trie['a']['d']['word_end']))\n",
    "print('Is \"add\" a word: {}'.format(basic_trie['a']['d']['d']['word_end']))"
   ]
  },
  {
   "cell_type": "markdown",
   "metadata": {
    "graffitiCellId": "id_8a5nwsy"
   },
   "source": [
    "You can lookup a word by checking if `word_end` is `True` after traversing all the characters in the word. Let's look at the word \"hi\". The first letter is \"h\", so you would call `basic_trie['h']`. The second letter is \"i\", so you would call `basic_trie['h']['i']`. Since there's no more letters left, you would see if this is a valid word by getting the value of `word_end`. Now you have `basic_trie['h']['i']['word_end']` with `True` or `False` if the word exists.\n",
    "\n",
    "In `basic_trie`, words \"a\" and \"add\" overlapp. This is where a Trie saves memory. Instead of having \"a\" and \"add\" in different cells, their characters treated like nodes in a tree. Let's see how we would check if a word exists in `basic_trie`."
   ]
  },
  {
   "cell_type": "code",
   "execution_count": 2,
   "metadata": {
    "graffitiCellId": "id_r22pqse"
   },
   "outputs": [
    {
     "name": "stdout",
     "output_type": "stream",
     "text": [
      "\"ap\" is not a word.\n",
      "\"add\" is a word.\n"
     ]
    }
   ],
   "source": [
    "def is_word(word):\n",
    "    \"\"\"\n",
    "    Look for the word in `basic_trie`\n",
    "    \"\"\"\n",
    "    current_node = basic_trie\n",
    "    \n",
    "    for char in word:\n",
    "        if char not in current_node:\n",
    "            return False\n",
    "        \n",
    "        current_node = current_node[char]\n",
    "    \n",
    "    return current_node['word_end']\n",
    "\n",
    "\n",
    "# Test words\n",
    "test_words = ['ap', 'add']\n",
    "for word in test_words:\n",
    "    if is_word(word):\n",
    "        print('\"{}\" is a word.'.format(word))\n",
    "    else:\n",
    "        print('\"{}\" is not a word.'.format(word))"
   ]
  },
  {
   "cell_type": "markdown",
   "metadata": {
    "graffitiCellId": "id_rvrc2k0"
   },
   "source": [
    "The `is_word` starts with the root node, `basic_trie`. It traverses each character (`char`) in the word (`word`). If a character doesn't exist while traversing, this means the word doesn't exist in the trie. Once all the characters are traversed, the function returns the value of `current_node['word_end']`.\n",
    "\n",
    "You might notice the function `is_word` is similar to a binary search tree traversal. Since Trie is a tree, it makes sense that we would use a type of tree traversal. Now that you've seen a basic example of a Trie, let's build something more familiar.\n",
    "## Trie Using a Class\n",
    "Just like most tree data structures, let's use classes to build the Trie. Implement two functions for the `Trie` class below. Implement `add` to add a word to the Trie. Implement `exists` to return `True` if the word exist in the trie and `False` if the word doesn't exist in the trie.\n"
   ]
  },
  {
   "cell_type": "code",
   "execution_count": 5,
   "metadata": {
    "graffitiCellId": "id_ripuwyf"
   },
   "outputs": [],
   "source": [
    "class TrieNode(object):\n",
    "    def __init__(self):\n",
    "        self.is_word = False\n",
    "        self.children = {}\n",
    "\n",
    "class Trie(object):\n",
    "    def __init__(self):\n",
    "        self.root = TrieNode()\n",
    "    \n",
    "    def add(self, word):\n",
    "        \"\"\"\n",
    "        Add `word` to trie\n",
    "        \"\"\"\n",
    "        itr = self.root\n",
    "        for char in word:\n",
    "            if char not in itr.children:\n",
    "                itr.children[char] = TrieNode()\n",
    "            itr = itr.children[char]\n",
    "        itr.is_word = True\n",
    "                \n",
    "    \n",
    "    def exists(self, word):\n",
    "        \"\"\"\n",
    "        Check if word exists in trie\n",
    "        \"\"\"\n",
    "        itr = self.root\n",
    "        for char in word:\n",
    "            if char not in itr.children:\n",
    "                return False\n",
    "            itr = itr.children[char]\n",
    "        if itr.is_word == True:\n",
    "            return True\n",
    "        return False"
   ]
  },
  {
   "cell_type": "markdown",
   "metadata": {
    "graffitiCellId": "id_h7y0qpa"
   },
   "source": [
    "<span class=\"graffiti-highlight graffiti-id_h7y0qpa-id_pncadbt\"><i></i><button>Show Solution</button></span>"
   ]
  },
  {
   "cell_type": "code",
   "execution_count": 8,
   "metadata": {
    "graffitiCellId": "id_9l7z1sf"
   },
   "outputs": [
    {
     "name": "stdout",
     "output_type": "stream",
     "text": [
      "\"bear\" is a word.\n",
      "\"goo\" is a word.\n",
      "\"good\" is a word.\n",
      "\"goos\" is not a word.\n",
      "\"zebra\" is a word.\n",
      "\"zebro\" is not a word.\n"
     ]
    }
   ],
   "source": [
    "word_list = ['apple', 'bear', 'goo', 'good', 'goodbye', 'goods', 'goodwill', 'gooses'  ,'zebra']\n",
    "word_trie = Trie()\n",
    "\n",
    "# Add words\n",
    "for word in word_list:\n",
    "    word_trie.add(word)\n",
    "\n",
    "# Test words\n",
    "test_words = ['bear', 'goo', 'good', 'goos', 'zebra', 'zebro']\n",
    "for word in test_words:\n",
    "    if word_trie.exists(word):\n",
    "        print('\"{}\" is a word.'.format(word))\n",
    "    else:\n",
    "        print('\"{}\" is not a word.'.format(word))"
   ]
  },
  {
   "cell_type": "markdown",
   "metadata": {
    "graffitiCellId": "id_8irwsjx"
   },
   "source": [
    "## Trie using Defaultdict (Optional)\n",
    "This is an optional section. Feel free to skip this and go to the next section of the classroom.\n",
    "\n",
    "A cleaner way to build a trie is with a Python default dictionary. The following `TrieNod` class is using `collections.defaultdict` instead of a normal dictionary."
   ]
  },
  {
   "cell_type": "code",
   "execution_count": null,
   "metadata": {
    "graffitiCellId": "id_9cezzui"
   },
   "outputs": [],
   "source": []
  },
  {
   "cell_type": "markdown",
   "metadata": {
    "graffitiCellId": "id_m7tuw99"
   },
   "source": [
    "Implement the `add` and `exists` function below using the new `TrieNode` class."
   ]
  },
  {
   "cell_type": "code",
   "execution_count": 48,
   "metadata": {
    "graffitiCellId": "id_8y03wp7"
   },
   "outputs": [
    {
     "name": "stdout",
     "output_type": "stream",
     "text": [
      "All tests passed!\n",
      "['there', 'their', 'the', 'answer', 'any', 'a', 'bye', 'by']\n",
      "['there', 'their', 'the']\n",
      "['answer', 'any']\n",
      "['there', 'their', 'the', 'answer', 'any', 'a', 'bye', 'by']\n",
      "['answer', 'any', 'a']\n",
      "[]\n"
     ]
    }
   ],
   "source": [
    "import collections\n",
    "\n",
    "\n",
    "class TrieNode:\n",
    "    def __init__(self):\n",
    "        self.children = collections.defaultdict(TrieNode)\n",
    "        self.is_word = False\n",
    "\n",
    "class Trie(object):\n",
    "    def __init__(self):\n",
    "        self.root = TrieNode()\n",
    "\n",
    "    def add(self, word):\n",
    "        \"\"\"\n",
    "        Add `word` to trie\n",
    "        \"\"\"\n",
    "        itr = self.root\n",
    "        for char in word:\n",
    "            itr = itr.children[char]\n",
    "        itr.is_word = True\n",
    "\n",
    "    def exists(self, word):\n",
    "        \"\"\"\n",
    "        Check if word exists in trie\n",
    "        \"\"\"\n",
    "        itr = self.root\n",
    "        for char in word:\n",
    "            if char not in itr.children:\n",
    "                return False\n",
    "            itr = itr.children[char]\n",
    "        return itr.is_word\n",
    "    \n",
    "    def _iteration(self, itr, combinations, combination=\"\"):\n",
    "        for char in itr.children.keys():\n",
    "            c = \"{}{}\".format(combination,char)\n",
    "            self._iteration(itr.children[char], combinations, c)\n",
    "        \n",
    "        if itr.is_word == True:\n",
    "            combinations.append(combination)\n",
    "    \n",
    "    def get_all_words(self):\n",
    "        combinations = []\n",
    "        itr = self.root\n",
    "        self._iteration(itr, combinations)\n",
    "        return combinations\n",
    "    \n",
    "    def search_by_prefix(self, prefix):\n",
    "        combinations = []\n",
    "        itr = self.root\n",
    "        current_combination = \"\"\n",
    "        for char in prefix:\n",
    "            if char in itr.children:\n",
    "                itr = itr.children[char]\n",
    "                current_combination = \"{}{}\".format(current_combination, char)\n",
    "            else:\n",
    "                if itr.is_word:\n",
    "                    combinations.append(current_combination)\n",
    "                return combinations\n",
    "        \n",
    "        self._iteration(itr, combinations, current_combination)\n",
    "        return combinations\n",
    "    \n",
    "# Add words\n",
    "valid_words = ['the', 'a', 'there', 'answer', 'any', 'by', 'bye', 'their']\n",
    "word_trie = Trie()\n",
    "for valid_word in valid_words:\n",
    "    word_trie.add(valid_word)\n",
    "\n",
    "# Tests\n",
    "assert word_trie.exists('the')\n",
    "assert word_trie.exists('any')\n",
    "assert not word_trie.exists('these')\n",
    "assert not word_trie.exists('zzz')\n",
    "print('All tests passed!')\n",
    "print(word_trie.get_all_words())\n",
    "print(word_trie.search_by_prefix(\"the\"))\n",
    "print(word_trie.search_by_prefix(\"an\"))\n",
    "print(word_trie.search_by_prefix(\"\"))\n",
    "print(word_trie.search_by_prefix(\"a\"))\n",
    "print(word_trie.search_by_prefix(\"c\"))"
   ]
  },
  {
   "cell_type": "markdown",
   "metadata": {
    "graffitiCellId": "id_158726u"
   },
   "source": [
    "<span class=\"graffiti-highlight graffiti-id_158726u-id_461jk1b\"><i></i><button>Show Solution</button></span>"
   ]
  },
  {
   "cell_type": "code",
   "execution_count": 36,
   "metadata": {
    "graffitiCellId": "id_6uuui8u"
   },
   "outputs": [
    {
     "name": "stdout",
     "output_type": "stream",
     "text": [
      "All tests passed!\n",
      "['there', 'their', 'the', 'answer', 'any', 'a', 'bye', 'by']\n"
     ]
    }
   ],
   "source": []
  },
  {
   "cell_type": "markdown",
   "metadata": {
    "graffitiCellId": "id_bcwz5dp"
   },
   "source": [
    "The Trie data structure is part of the family of Tree data structures. It shines when dealing with sequence data, whether it's characters, words, or network nodes. When working on a problem with sequence data, ask yourself if a Trie is right for the job."
   ]
  }
 ],
 "metadata": {
  "graffiti": {
   "firstAuthorId": "dev",
   "id": "id_4i2q7we",
   "language": "EN"
  },
  "kernelspec": {
   "display_name": "Python 3",
   "language": "python",
   "name": "python3"
  },
  "language_info": {
   "codemirror_mode": {
    "name": "ipython",
    "version": 3
   },
   "file_extension": ".py",
   "mimetype": "text/x-python",
   "name": "python",
   "nbconvert_exporter": "python",
   "pygments_lexer": "ipython3",
   "version": "3.6.3"
  }
 },
 "nbformat": 4,
 "nbformat_minor": 2
}
