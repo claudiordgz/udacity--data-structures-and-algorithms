{
 "cells": [
  {
   "cell_type": "markdown",
   "metadata": {
    "graffitiCellId": "id_wzbr23x"
   },
   "source": [
    "### Problem Statement\n",
    "\n",
    "The Tower of Hanoi is a puzzle where we have three rods and `n` disks. The three rods are:\n",
    "    1. source\n",
    "    2. destination\n",
    "    3. auxiliary\n",
    "\n",
    "Initally, all the `n` disks are present on the source rod. The final objective of the puzzle is to move all disks from the source rod to the destination rod using the auxiliary rod. However, there are some rules according to which this has to be done:\n",
    "    1. Only one disk can be moved at a time.\n",
    "    2. A disk can be moved only if it is on the top of a rod.\n",
    "    3. No disk can be placed on the top of a smaller disk.\n",
    "    \n",
    "You will be given the number of disks `num_disks` as the input parameter. \n",
    "\n",
    "For example, if you have `num_disks = 3`, then the disks should be moved as follows:\n",
    "    \n",
    "        1. move disk from source to auxiliary\n",
    "        2. move disk from source to destination\n",
    "        3. move disk from auxiliary to destination\n",
    "        \n",
    "You must print these steps as follows:    \n",
    "\n",
    "        S A\n",
    "        S D\n",
    "        A D\n",
    "        \n",
    "Where S = source, D = destination, A = auxiliary\n"
   ]
  },
  {
   "cell_type": "code",
   "execution_count": 26,
   "metadata": {
    "graffitiCellId": "id_8tcr5o8"
   },
   "outputs": [
    {
     "name": "stdout",
     "output_type": "stream",
     "text": [
      "------------TEST for n=2------------\n",
      "S A S A True\n",
      "S D S D True\n",
      "A D A D True\n",
      "------------TEST for n=3------------\n",
      "S D S D True\n",
      "S A S A True\n",
      "D A D A True\n",
      "S D S D True\n",
      "A S A S True\n",
      "A D A D True\n",
      "S D S D True\n",
      "------------TEST for n=4------------\n",
      "S A S A True\n",
      "S D S D True\n",
      "A D A D True\n",
      "S A S A True\n",
      "D S D S True\n",
      "D A D A True\n",
      "S A S A True\n",
      "S D S D True\n",
      "A D A D True\n",
      "A S A S True\n",
      "D S D S True\n",
      "A D A D True\n",
      "S A S A True\n",
      "S D S D True\n",
      "A D A D True\n"
     ]
    }
   ],
   "source": [
    "def _tower_helper(num_disks, source, destination, auxiliary, results):    \n",
    "    if num_disks == 1:\n",
    "        results.append(\"{} {}\".format(source, destination))\n",
    "    else:\n",
    "        _tower_helper(num_disks - 1, source, auxiliary, destination, results)\n",
    "        results.append(\"{} {}\".format(source, destination))\n",
    "        _tower_helper(num_disks - 1, auxiliary, destination, source, results)\n",
    "\n",
    "def tower_of_Hanoi(num_disks):\n",
    "    \"\"\"\n",
    "    :param: num_disks - number of disks\n",
    "    TODO: print the steps required to move all disks from source to destination\n",
    "    \"\"\"\n",
    "    results = []\n",
    "    _tower_helper(num_disks, \"S\", \"D\", \"A\", results)\n",
    "    return results\n",
    "\n",
    "    \n",
    "def test_case(n, expected):\n",
    "    print(\"------------TEST for n={}------------\".format(n))\n",
    "    g = tower_of_Hanoi(n)\n",
    "    for i, j in zip(g, expected):\n",
    "        print(i, j, i == j)\n",
    "        \n",
    "a = [ 'S A', 'S D', 'A D' ]\n",
    "test_case(2, a)\n",
    "b = [ 'S D', 'S A', 'D A', 'S D', 'A S', 'A D', 'S D', ]\n",
    "test_case(3, b)\n",
    "c = [\"S A\", \"S D\", \"A D\", \"S A\", \"D S\", \"D A\", \"S A\", \"S D\", \"A D\", \"A S\", \"D S\", \"A D\", \"S A\", \"S D\", \"A D\", ]\n",
    "test_case(4, c)"
   ]
  },
  {
   "cell_type": "markdown",
   "metadata": {
    "graffitiCellId": "id_rh9jy5w"
   },
   "source": [
    "<span class=\"graffiti-highlight graffiti-id_rh9jy5w-id_aaedpt9\"><i></i><button>Hide Solution</button></span>"
   ]
  },
  {
   "cell_type": "code",
   "execution_count": 21,
   "metadata": {
    "graffitiCellId": "id_aaedpt9"
   },
   "outputs": [
    {
     "name": "stdout",
     "output_type": "stream",
     "text": [
      "S D\n",
      "S A\n",
      "D A\n",
      "S D\n",
      "A S\n",
      "A D\n",
      "S D\n"
     ]
    }
   ],
   "source": [
    "# Solution\n",
    "def tower_of_Hanoi_soln(num_disks, source, auxiliary, destination):\n",
    "    \n",
    "    if num_disks == 0:\n",
    "        return\n",
    "    \n",
    "    if num_disks == 1:\n",
    "        print(\"{} {}\".format(source, destination))\n",
    "        return\n",
    "    \n",
    "    tower_of_Hanoi_soln(num_disks - 1, source, destination, auxiliary)\n",
    "    print(\"{} {}\".format(source, destination))\n",
    "    tower_of_Hanoi_soln(num_disks - 1, auxiliary, source, destination)\n",
    "    \n",
    "def tower_of_Hanoi(num_disks):\n",
    "    tower_of_Hanoi_soln(num_disks, 'S', 'A', 'D')\n",
    "    \n",
    "tower_of_Hanoi(3)"
   ]
  },
  {
   "cell_type": "markdown",
   "metadata": {
    "graffitiCellId": "id_6dm5twe"
   },
   "source": [
    "#### Compare your results with the following test cases\n",
    "* num_disks = 2\n",
    "\n",
    "        solution \n",
    "                S A\n",
    "                S D\n",
    "                A D\n",
    "                \n",
    "* num_disks = 3\n",
    "\n",
    "        solution \n",
    "                S D\n",
    "                S A\n",
    "                D A\n",
    "                S D\n",
    "                A S\n",
    "                A D\n",
    "                S D\n",
    "\n",
    "* num_disks = 4\n",
    "    \n",
    "        solution\n",
    "                S A\n",
    "                S D\n",
    "                A D\n",
    "                S A\n",
    "                D S\n",
    "                D A\n",
    "                S A\n",
    "                S D\n",
    "                A D\n",
    "                A S\n",
    "                D S\n",
    "                A D\n",
    "                S A\n",
    "                S D\n",
    "                A D"
   ]
  }
 ],
 "metadata": {
  "graffiti": {
   "firstAuthorId": "dev",
   "id": "id_at34t9a",
   "language": "EN"
  },
  "kernelspec": {
   "display_name": "Python 3",
   "language": "python",
   "name": "python3"
  },
  "language_info": {
   "codemirror_mode": {
    "name": "ipython",
    "version": 3
   },
   "file_extension": ".py",
   "mimetype": "text/x-python",
   "name": "python",
   "nbconvert_exporter": "python",
   "pygments_lexer": "ipython3",
   "version": "3.6.3"
  }
 },
 "nbformat": 4,
 "nbformat_minor": 2
}
